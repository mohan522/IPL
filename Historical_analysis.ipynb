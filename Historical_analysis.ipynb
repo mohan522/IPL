{
  "nbformat": 4,
  "nbformat_minor": 0,
  "metadata": {
    "colab": {
      "name": "Historical_analysis.ipynb",
      "provenance": [],
      "collapsed_sections": []
    },
    "kernelspec": {
      "name": "python3",
      "display_name": "Python 3"
    },
    "language_info": {
      "name": "python"
    }
  },
  "cells": [
    {
      "cell_type": "code",
      "metadata": {
        "colab": {
          "base_uri": "https://localhost:8080/"
        },
        "id": "Fwe_LnD7XkMj",
        "outputId": "c6e171f4-815d-435a-f796-78155b3068ba"
      },
      "source": [
        "! git clone https://github.com/mohan522/IPL.git\n"
      ],
      "execution_count": 1,
      "outputs": [
        {
          "output_type": "stream",
          "text": [
            "Cloning into 'IPL'...\n",
            "remote: Enumerating objects: 40, done.\u001b[K\n",
            "remote: Counting objects: 100% (40/40), done.\u001b[K\n",
            "remote: Compressing objects: 100% (32/32), done.\u001b[K\n",
            "remote: Total 40 (delta 10), reused 16 (delta 3), pack-reused 0\u001b[K\n",
            "Unpacking objects: 100% (40/40), done.\n"
          ],
          "name": "stdout"
        }
      ]
    },
    {
      "cell_type": "code",
      "metadata": {
        "id": "kMVZ7T75Zbld"
      },
      "source": [
        "import numpy as np\n",
        "import pandas as pd\n",
        "import matplotlib.pyplot as plt\n"
      ],
      "execution_count": 2,
      "outputs": []
    },
    {
      "cell_type": "code",
      "metadata": {
        "id": "BaNYQIx5ZvGW"
      },
      "source": [
        "ball_df = pd.read_csv(\"/content/IPL/Ball_By_Ball.csv\")\n",
        "match_df = pd.read_csv(\"/content/IPL/Match.csv\")\n"
      ],
      "execution_count": 3,
      "outputs": []
    },
    {
      "cell_type": "code",
      "metadata": {
        "id": "egIa-KFeZ3r1"
      },
      "source": [
        "player_df = pd.read_csv(\"/content/IPL/Player.csv\",engine = \"python\")\n",
        "plyr_mtch_df = pd.read_csv(\"/content/IPL/Player_match.csv\",engine = \"python\")\n",
        "team_df = pd.read_csv(\"/content/IPL/Team.csv\",engine = \"python\")"
      ],
      "execution_count": 5,
      "outputs": []
    },
    {
      "cell_type": "code",
      "metadata": {
        "colab": {
          "base_uri": "https://localhost:8080/",
          "height": 203
        },
        "id": "PcEkX9rMbIS5",
        "outputId": "45655fca-4f7c-4976-98f9-27876b690cfd"
      },
      "source": [
        "player_df.head()"
      ],
      "execution_count": 6,
      "outputs": [
        {
          "output_type": "execute_result",
          "data": {
            "text/html": [
              "<div>\n",
              "<style scoped>\n",
              "    .dataframe tbody tr th:only-of-type {\n",
              "        vertical-align: middle;\n",
              "    }\n",
              "\n",
              "    .dataframe tbody tr th {\n",
              "        vertical-align: top;\n",
              "    }\n",
              "\n",
              "    .dataframe thead th {\n",
              "        text-align: right;\n",
              "    }\n",
              "</style>\n",
              "<table border=\"1\" class=\"dataframe\">\n",
              "  <thead>\n",
              "    <tr style=\"text-align: right;\">\n",
              "      <th></th>\n",
              "      <th>PLAYER_SK</th>\n",
              "      <th>Player_Id</th>\n",
              "      <th>Player_Name</th>\n",
              "      <th>DOB</th>\n",
              "      <th>Batting_hand</th>\n",
              "      <th>Bowling_skill</th>\n",
              "      <th>Country_Name</th>\n",
              "    </tr>\n",
              "  </thead>\n",
              "  <tbody>\n",
              "    <tr>\n",
              "      <th>0</th>\n",
              "      <td>0</td>\n",
              "      <td>1</td>\n",
              "      <td>SC Ganguly</td>\n",
              "      <td>7/8/1972</td>\n",
              "      <td>Left-hand bat</td>\n",
              "      <td>Right-arm medium</td>\n",
              "      <td>India</td>\n",
              "    </tr>\n",
              "    <tr>\n",
              "      <th>1</th>\n",
              "      <td>1</td>\n",
              "      <td>2</td>\n",
              "      <td>BB McCullum</td>\n",
              "      <td>9/27/1981</td>\n",
              "      <td>Right-hand bat</td>\n",
              "      <td>Right-arm medium</td>\n",
              "      <td>New Zealand</td>\n",
              "    </tr>\n",
              "    <tr>\n",
              "      <th>2</th>\n",
              "      <td>2</td>\n",
              "      <td>3</td>\n",
              "      <td>RT Ponting</td>\n",
              "      <td>12/19/1974</td>\n",
              "      <td>Right-hand bat</td>\n",
              "      <td>Right-arm medium</td>\n",
              "      <td>Australia</td>\n",
              "    </tr>\n",
              "    <tr>\n",
              "      <th>3</th>\n",
              "      <td>3</td>\n",
              "      <td>4</td>\n",
              "      <td>DJ Hussey</td>\n",
              "      <td>7/15/1977</td>\n",
              "      <td>Right-hand bat</td>\n",
              "      <td>Right-arm offbreak</td>\n",
              "      <td>Australia</td>\n",
              "    </tr>\n",
              "    <tr>\n",
              "      <th>4</th>\n",
              "      <td>4</td>\n",
              "      <td>5</td>\n",
              "      <td>Mohammad Hafeez</td>\n",
              "      <td>10/17/1980</td>\n",
              "      <td>Right-hand bat</td>\n",
              "      <td>Right-arm offbreak</td>\n",
              "      <td>Pakistan</td>\n",
              "    </tr>\n",
              "  </tbody>\n",
              "</table>\n",
              "</div>"
            ],
            "text/plain": [
              "   PLAYER_SK  Player_Id  ...       Bowling_skill Country_Name\n",
              "0          0          1  ...    Right-arm medium        India\n",
              "1          1          2  ...    Right-arm medium  New Zealand\n",
              "2          2          3  ...    Right-arm medium    Australia\n",
              "3          3          4  ...  Right-arm offbreak    Australia\n",
              "4          4          5  ...  Right-arm offbreak     Pakistan\n",
              "\n",
              "[5 rows x 7 columns]"
            ]
          },
          "metadata": {
            "tags": []
          },
          "execution_count": 6
        }
      ]
    },
    {
      "cell_type": "code",
      "metadata": {
        "colab": {
          "base_uri": "https://localhost:8080/",
          "height": 358
        },
        "id": "k2KVRfOLbPnX",
        "outputId": "1e43bfb0-1376-4995-d04b-47c49fc3fe2b"
      },
      "source": [
        "plyr_mtch_df.head()"
      ],
      "execution_count": 7,
      "outputs": [
        {
          "output_type": "execute_result",
          "data": {
            "text/html": [
              "<div>\n",
              "<style scoped>\n",
              "    .dataframe tbody tr th:only-of-type {\n",
              "        vertical-align: middle;\n",
              "    }\n",
              "\n",
              "    .dataframe tbody tr th {\n",
              "        vertical-align: top;\n",
              "    }\n",
              "\n",
              "    .dataframe thead th {\n",
              "        text-align: right;\n",
              "    }\n",
              "</style>\n",
              "<table border=\"1\" class=\"dataframe\">\n",
              "  <thead>\n",
              "    <tr style=\"text-align: right;\">\n",
              "      <th></th>\n",
              "      <th>Player_match_SK</th>\n",
              "      <th>PlayerMatch_key</th>\n",
              "      <th>Match_Id</th>\n",
              "      <th>Player_Id</th>\n",
              "      <th>Player_Name</th>\n",
              "      <th>DOB</th>\n",
              "      <th>Batting_hand</th>\n",
              "      <th>Bowling_skill</th>\n",
              "      <th>Country_Name</th>\n",
              "      <th>Role_Desc</th>\n",
              "      <th>Player_team</th>\n",
              "      <th>Opposit_Team</th>\n",
              "      <th>Season_year</th>\n",
              "      <th>is_manofThematch</th>\n",
              "      <th>Age_As_on_match</th>\n",
              "      <th>IsPlayers_Team_won</th>\n",
              "      <th>Batting_Status</th>\n",
              "      <th>Bowling_Status</th>\n",
              "      <th>Player_Captain</th>\n",
              "      <th>Opposit_captain</th>\n",
              "      <th>Player_keeper</th>\n",
              "      <th>Opposit_keeper</th>\n",
              "    </tr>\n",
              "  </thead>\n",
              "  <tbody>\n",
              "    <tr>\n",
              "      <th>0</th>\n",
              "      <td>-1</td>\n",
              "      <td>-1.000000e+00</td>\n",
              "      <td>-1</td>\n",
              "      <td>-1</td>\n",
              "      <td>NaN</td>\n",
              "      <td>NaN</td>\n",
              "      <td>NaN</td>\n",
              "      <td>NaN</td>\n",
              "      <td>NaN</td>\n",
              "      <td>NaN</td>\n",
              "      <td>NaN</td>\n",
              "      <td>NaN</td>\n",
              "      <td>NaN</td>\n",
              "      <td>NaN</td>\n",
              "      <td>NaN</td>\n",
              "      <td>NaN</td>\n",
              "      <td>NaN</td>\n",
              "      <td>NaN</td>\n",
              "      <td>NaN</td>\n",
              "      <td>NaN</td>\n",
              "      <td>NaN</td>\n",
              "      <td>NaN</td>\n",
              "    </tr>\n",
              "    <tr>\n",
              "      <th>1</th>\n",
              "      <td>12694</td>\n",
              "      <td>3.359870e+10</td>\n",
              "      <td>335987</td>\n",
              "      <td>6</td>\n",
              "      <td>R Dravid</td>\n",
              "      <td>1/11/1973</td>\n",
              "      <td>Right-hand bat</td>\n",
              "      <td>Right-arm offbreak</td>\n",
              "      <td>India</td>\n",
              "      <td>Captain</td>\n",
              "      <td>Royal Challengers Bangalore</td>\n",
              "      <td>Kolkata Knight Riders</td>\n",
              "      <td>2008.0</td>\n",
              "      <td>0.0</td>\n",
              "      <td>35.0</td>\n",
              "      <td>0.0</td>\n",
              "      <td>NaN</td>\n",
              "      <td>NaN</td>\n",
              "      <td>R Dravid</td>\n",
              "      <td>SC Ganguly</td>\n",
              "      <td>MV Boucher</td>\n",
              "      <td>WP Saha</td>\n",
              "    </tr>\n",
              "    <tr>\n",
              "      <th>2</th>\n",
              "      <td>12695</td>\n",
              "      <td>3.359870e+10</td>\n",
              "      <td>335987</td>\n",
              "      <td>7</td>\n",
              "      <td>W Jaffer</td>\n",
              "      <td>2/16/1978</td>\n",
              "      <td>Right-hand bat</td>\n",
              "      <td>Right-arm offbreak</td>\n",
              "      <td>India</td>\n",
              "      <td>Player</td>\n",
              "      <td>Royal Challengers Bangalore</td>\n",
              "      <td>Kolkata Knight Riders</td>\n",
              "      <td>2008.0</td>\n",
              "      <td>0.0</td>\n",
              "      <td>30.0</td>\n",
              "      <td>0.0</td>\n",
              "      <td>NaN</td>\n",
              "      <td>NaN</td>\n",
              "      <td>R Dravid</td>\n",
              "      <td>SC Ganguly</td>\n",
              "      <td>MV Boucher</td>\n",
              "      <td>WP Saha</td>\n",
              "    </tr>\n",
              "    <tr>\n",
              "      <th>3</th>\n",
              "      <td>12696</td>\n",
              "      <td>3.359870e+10</td>\n",
              "      <td>335987</td>\n",
              "      <td>8</td>\n",
              "      <td>V Kohli</td>\n",
              "      <td>11/5/1988</td>\n",
              "      <td>Right-hand bat</td>\n",
              "      <td>Right-arm medium</td>\n",
              "      <td>India</td>\n",
              "      <td>Player</td>\n",
              "      <td>Royal Challengers Bangalore</td>\n",
              "      <td>Kolkata Knight Riders</td>\n",
              "      <td>2008.0</td>\n",
              "      <td>0.0</td>\n",
              "      <td>20.0</td>\n",
              "      <td>0.0</td>\n",
              "      <td>NaN</td>\n",
              "      <td>NaN</td>\n",
              "      <td>R Dravid</td>\n",
              "      <td>SC Ganguly</td>\n",
              "      <td>MV Boucher</td>\n",
              "      <td>WP Saha</td>\n",
              "    </tr>\n",
              "    <tr>\n",
              "      <th>4</th>\n",
              "      <td>12697</td>\n",
              "      <td>3.359870e+10</td>\n",
              "      <td>335987</td>\n",
              "      <td>9</td>\n",
              "      <td>JH Kallis</td>\n",
              "      <td>10/16/1975</td>\n",
              "      <td>Right-hand bat</td>\n",
              "      <td>Right-arm fast-medium</td>\n",
              "      <td>South Africa</td>\n",
              "      <td>Player</td>\n",
              "      <td>Royal Challengers Bangalore</td>\n",
              "      <td>Kolkata Knight Riders</td>\n",
              "      <td>2008.0</td>\n",
              "      <td>0.0</td>\n",
              "      <td>33.0</td>\n",
              "      <td>0.0</td>\n",
              "      <td>NaN</td>\n",
              "      <td>NaN</td>\n",
              "      <td>R Dravid</td>\n",
              "      <td>SC Ganguly</td>\n",
              "      <td>MV Boucher</td>\n",
              "      <td>WP Saha</td>\n",
              "    </tr>\n",
              "  </tbody>\n",
              "</table>\n",
              "</div>"
            ],
            "text/plain": [
              "   Player_match_SK  PlayerMatch_key  ...  Player_keeper  Opposit_keeper\n",
              "0               -1    -1.000000e+00  ...            NaN             NaN\n",
              "1            12694     3.359870e+10  ...     MV Boucher         WP Saha\n",
              "2            12695     3.359870e+10  ...     MV Boucher         WP Saha\n",
              "3            12696     3.359870e+10  ...     MV Boucher         WP Saha\n",
              "4            12697     3.359870e+10  ...     MV Boucher         WP Saha\n",
              "\n",
              "[5 rows x 22 columns]"
            ]
          },
          "metadata": {
            "tags": []
          },
          "execution_count": 7
        }
      ]
    },
    {
      "cell_type": "code",
      "metadata": {
        "colab": {
          "base_uri": "https://localhost:8080/",
          "height": 408
        },
        "id": "IacE5NenbeLN",
        "outputId": "92beef91-a9d6-493e-c0fd-f58cdbf2b558"
      },
      "source": [
        "match_df.head()"
      ],
      "execution_count": 8,
      "outputs": [
        {
          "output_type": "execute_result",
          "data": {
            "text/html": [
              "<div>\n",
              "<style scoped>\n",
              "    .dataframe tbody tr th:only-of-type {\n",
              "        vertical-align: middle;\n",
              "    }\n",
              "\n",
              "    .dataframe tbody tr th {\n",
              "        vertical-align: top;\n",
              "    }\n",
              "\n",
              "    .dataframe thead th {\n",
              "        text-align: right;\n",
              "    }\n",
              "</style>\n",
              "<table border=\"1\" class=\"dataframe\">\n",
              "  <thead>\n",
              "    <tr style=\"text-align: right;\">\n",
              "      <th></th>\n",
              "      <th>Match_SK</th>\n",
              "      <th>match_id</th>\n",
              "      <th>Team1</th>\n",
              "      <th>Team2</th>\n",
              "      <th>match_date</th>\n",
              "      <th>Season_Year</th>\n",
              "      <th>Venue_Name</th>\n",
              "      <th>City_Name</th>\n",
              "      <th>Country_Name</th>\n",
              "      <th>Toss_Winner</th>\n",
              "      <th>match_winner</th>\n",
              "      <th>Toss_Name</th>\n",
              "      <th>Win_Type</th>\n",
              "      <th>Outcome_Type</th>\n",
              "      <th>ManOfMach</th>\n",
              "      <th>Win_Margin</th>\n",
              "      <th>Country_id</th>\n",
              "    </tr>\n",
              "  </thead>\n",
              "  <tbody>\n",
              "    <tr>\n",
              "      <th>0</th>\n",
              "      <td>0</td>\n",
              "      <td>335987</td>\n",
              "      <td>Royal Challengers Bangalore</td>\n",
              "      <td>Kolkata Knight Riders</td>\n",
              "      <td>4/18/2008</td>\n",
              "      <td>2008</td>\n",
              "      <td>M Chinnaswamy Stadium</td>\n",
              "      <td>Bangalore</td>\n",
              "      <td>India</td>\n",
              "      <td>Royal Challengers Bangalore</td>\n",
              "      <td>Kolkata Knight Riders</td>\n",
              "      <td>field</td>\n",
              "      <td>runs</td>\n",
              "      <td>Result</td>\n",
              "      <td>BB McCullum</td>\n",
              "      <td>140.0</td>\n",
              "      <td>1</td>\n",
              "    </tr>\n",
              "    <tr>\n",
              "      <th>1</th>\n",
              "      <td>1</td>\n",
              "      <td>335988</td>\n",
              "      <td>Kings XI Punjab</td>\n",
              "      <td>Chennai Super Kings</td>\n",
              "      <td>4/19/2008</td>\n",
              "      <td>2008</td>\n",
              "      <td>Punjab Cricket Association Stadium, Mohali</td>\n",
              "      <td>Chandigarh</td>\n",
              "      <td>India</td>\n",
              "      <td>Chennai Super Kings</td>\n",
              "      <td>Chennai Super Kings</td>\n",
              "      <td>bat</td>\n",
              "      <td>runs</td>\n",
              "      <td>Result</td>\n",
              "      <td>MEK Hussey</td>\n",
              "      <td>33.0</td>\n",
              "      <td>1</td>\n",
              "    </tr>\n",
              "    <tr>\n",
              "      <th>2</th>\n",
              "      <td>2</td>\n",
              "      <td>335989</td>\n",
              "      <td>Delhi Daredevils</td>\n",
              "      <td>Rajasthan Royals</td>\n",
              "      <td>4/19/2008</td>\n",
              "      <td>2008</td>\n",
              "      <td>Feroz Shah Kotla</td>\n",
              "      <td>Delhi</td>\n",
              "      <td>India</td>\n",
              "      <td>Rajasthan Royals</td>\n",
              "      <td>Delhi Daredevils</td>\n",
              "      <td>bat</td>\n",
              "      <td>wickets</td>\n",
              "      <td>Result</td>\n",
              "      <td>MF Maharoof</td>\n",
              "      <td>9.0</td>\n",
              "      <td>1</td>\n",
              "    </tr>\n",
              "    <tr>\n",
              "      <th>3</th>\n",
              "      <td>3</td>\n",
              "      <td>335990</td>\n",
              "      <td>Mumbai Indians</td>\n",
              "      <td>Royal Challengers Bangalore</td>\n",
              "      <td>4/20/2008</td>\n",
              "      <td>2008</td>\n",
              "      <td>Wankhede Stadium</td>\n",
              "      <td>Mumbai</td>\n",
              "      <td>India</td>\n",
              "      <td>Mumbai Indians</td>\n",
              "      <td>Royal Challengers Bangalore</td>\n",
              "      <td>bat</td>\n",
              "      <td>wickets</td>\n",
              "      <td>Result</td>\n",
              "      <td>MV Boucher</td>\n",
              "      <td>5.0</td>\n",
              "      <td>1</td>\n",
              "    </tr>\n",
              "    <tr>\n",
              "      <th>4</th>\n",
              "      <td>4</td>\n",
              "      <td>335991</td>\n",
              "      <td>Kolkata Knight Riders</td>\n",
              "      <td>Deccan Chargers</td>\n",
              "      <td>4/20/2008</td>\n",
              "      <td>2008</td>\n",
              "      <td>Eden Gardens</td>\n",
              "      <td>Kolkata</td>\n",
              "      <td>India</td>\n",
              "      <td>Deccan Chargers</td>\n",
              "      <td>Kolkata Knight Riders</td>\n",
              "      <td>bat</td>\n",
              "      <td>wickets</td>\n",
              "      <td>Result</td>\n",
              "      <td>DJ Hussey</td>\n",
              "      <td>5.0</td>\n",
              "      <td>1</td>\n",
              "    </tr>\n",
              "  </tbody>\n",
              "</table>\n",
              "</div>"
            ],
            "text/plain": [
              "   Match_SK  match_id  ... Win_Margin Country_id\n",
              "0         0    335987  ...      140.0          1\n",
              "1         1    335988  ...       33.0          1\n",
              "2         2    335989  ...        9.0          1\n",
              "3         3    335990  ...        5.0          1\n",
              "4         4    335991  ...        5.0          1\n",
              "\n",
              "[5 rows x 17 columns]"
            ]
          },
          "metadata": {
            "tags": []
          },
          "execution_count": 8
        }
      ]
    },
    {
      "cell_type": "code",
      "metadata": {
        "colab": {
          "base_uri": "https://localhost:8080/",
          "height": 295
        },
        "id": "qe0y_IpxfyDD",
        "outputId": "e57e3916-e983-489e-b601-2a4fdc4f6669"
      },
      "source": [
        "match_df.describe()"
      ],
      "execution_count": 10,
      "outputs": [
        {
          "output_type": "execute_result",
          "data": {
            "text/html": [
              "<div>\n",
              "<style scoped>\n",
              "    .dataframe tbody tr th:only-of-type {\n",
              "        vertical-align: middle;\n",
              "    }\n",
              "\n",
              "    .dataframe tbody tr th {\n",
              "        vertical-align: top;\n",
              "    }\n",
              "\n",
              "    .dataframe thead th {\n",
              "        text-align: right;\n",
              "    }\n",
              "</style>\n",
              "<table border=\"1\" class=\"dataframe\">\n",
              "  <thead>\n",
              "    <tr style=\"text-align: right;\">\n",
              "      <th></th>\n",
              "      <th>Match_SK</th>\n",
              "      <th>match_id</th>\n",
              "      <th>Season_Year</th>\n",
              "      <th>Win_Margin</th>\n",
              "      <th>Country_id</th>\n",
              "    </tr>\n",
              "  </thead>\n",
              "  <tbody>\n",
              "    <tr>\n",
              "      <th>count</th>\n",
              "      <td>637.000000</td>\n",
              "      <td>6.370000e+02</td>\n",
              "      <td>637.000000</td>\n",
              "      <td>628.000000</td>\n",
              "      <td>637.000000</td>\n",
              "    </tr>\n",
              "    <tr>\n",
              "      <th>mean</th>\n",
              "      <td>318.000000</td>\n",
              "      <td>6.378825e+05</td>\n",
              "      <td>2012.497645</td>\n",
              "      <td>17.272293</td>\n",
              "      <td>1.152276</td>\n",
              "    </tr>\n",
              "    <tr>\n",
              "      <th>std</th>\n",
              "      <td>184.030342</td>\n",
              "      <td>2.356312e+05</td>\n",
              "      <td>2.776600</td>\n",
              "      <td>22.212632</td>\n",
              "      <td>0.438388</td>\n",
              "    </tr>\n",
              "    <tr>\n",
              "      <th>min</th>\n",
              "      <td>0.000000</td>\n",
              "      <td>3.359870e+05</td>\n",
              "      <td>2008.000000</td>\n",
              "      <td>0.000000</td>\n",
              "      <td>1.000000</td>\n",
              "    </tr>\n",
              "    <tr>\n",
              "      <th>25%</th>\n",
              "      <td>159.000000</td>\n",
              "      <td>4.191550e+05</td>\n",
              "      <td>2010.000000</td>\n",
              "      <td>6.000000</td>\n",
              "      <td>1.000000</td>\n",
              "    </tr>\n",
              "    <tr>\n",
              "      <th>50%</th>\n",
              "      <td>318.000000</td>\n",
              "      <td>5.483830e+05</td>\n",
              "      <td>2012.000000</td>\n",
              "      <td>8.000000</td>\n",
              "      <td>1.000000</td>\n",
              "    </tr>\n",
              "    <tr>\n",
              "      <th>75%</th>\n",
              "      <td>477.000000</td>\n",
              "      <td>8.297480e+05</td>\n",
              "      <td>2015.000000</td>\n",
              "      <td>20.000000</td>\n",
              "      <td>1.000000</td>\n",
              "    </tr>\n",
              "    <tr>\n",
              "      <th>max</th>\n",
              "      <td>636.000000</td>\n",
              "      <td>1.082650e+06</td>\n",
              "      <td>2017.000000</td>\n",
              "      <td>146.000000</td>\n",
              "      <td>3.000000</td>\n",
              "    </tr>\n",
              "  </tbody>\n",
              "</table>\n",
              "</div>"
            ],
            "text/plain": [
              "         Match_SK      match_id  Season_Year  Win_Margin  Country_id\n",
              "count  637.000000  6.370000e+02   637.000000  628.000000  637.000000\n",
              "mean   318.000000  6.378825e+05  2012.497645   17.272293    1.152276\n",
              "std    184.030342  2.356312e+05     2.776600   22.212632    0.438388\n",
              "min      0.000000  3.359870e+05  2008.000000    0.000000    1.000000\n",
              "25%    159.000000  4.191550e+05  2010.000000    6.000000    1.000000\n",
              "50%    318.000000  5.483830e+05  2012.000000    8.000000    1.000000\n",
              "75%    477.000000  8.297480e+05  2015.000000   20.000000    1.000000\n",
              "max    636.000000  1.082650e+06  2017.000000  146.000000    3.000000"
            ]
          },
          "metadata": {
            "tags": []
          },
          "execution_count": 10
        }
      ]
    },
    {
      "cell_type": "code",
      "metadata": {
        "colab": {
          "base_uri": "https://localhost:8080/"
        },
        "id": "BXJ3SoG-f9sM",
        "outputId": "48e436bc-9636-4fdb-8029-c4a4a844cf4a"
      },
      "source": [
        "match_df.info()"
      ],
      "execution_count": 11,
      "outputs": [
        {
          "output_type": "stream",
          "text": [
            "<class 'pandas.core.frame.DataFrame'>\n",
            "RangeIndex: 637 entries, 0 to 636\n",
            "Data columns (total 17 columns):\n",
            " #   Column        Non-Null Count  Dtype  \n",
            "---  ------        --------------  -----  \n",
            " 0   Match_SK      637 non-null    int64  \n",
            " 1   match_id      637 non-null    int64  \n",
            " 2   Team1         637 non-null    object \n",
            " 3   Team2         637 non-null    object \n",
            " 4   match_date    637 non-null    object \n",
            " 5   Season_Year   637 non-null    int64  \n",
            " 6   Venue_Name    636 non-null    object \n",
            " 7   City_Name     637 non-null    object \n",
            " 8   Country_Name  637 non-null    object \n",
            " 9   Toss_Winner   636 non-null    object \n",
            " 10  match_winner  634 non-null    object \n",
            " 11  Toss_Name     636 non-null    object \n",
            " 12  Win_Type      635 non-null    object \n",
            " 13  Outcome_Type  637 non-null    object \n",
            " 14  ManOfMach     633 non-null    object \n",
            " 15  Win_Margin    628 non-null    float64\n",
            " 16  Country_id    637 non-null    int64  \n",
            "dtypes: float64(1), int64(4), object(12)\n",
            "memory usage: 84.7+ KB\n"
          ],
          "name": "stdout"
        }
      ]
    },
    {
      "cell_type": "markdown",
      "metadata": {
        "id": "8LvYgapNgVZg"
      },
      "source": [
        "##From the above info one can say that there are 637 macthes in total\n",
        "##From below info matches are played from 2008-2017"
      ]
    },
    {
      "cell_type": "code",
      "metadata": {
        "colab": {
          "base_uri": "https://localhost:8080/"
        },
        "id": "y-UWLkxAgOUt",
        "outputId": "af72271c-021b-4d41-b58b-0154072d8de4"
      },
      "source": [
        "#matches Period\n",
        "match_df.Season_Year.unique()"
      ],
      "execution_count": 12,
      "outputs": [
        {
          "output_type": "execute_result",
          "data": {
            "text/plain": [
              "array([2008, 2009, 2010, 2011, 2012, 2013, 2014, 2015, 2016, 2017])"
            ]
          },
          "metadata": {
            "tags": []
          },
          "execution_count": 12
        }
      ]
    },
    {
      "cell_type": "markdown",
      "metadata": {
        "id": "4hUKUz57hHqt"
      },
      "source": [
        "#Questions to answer from the above data are...\n",
        "\n",
        "\n",
        "1.   Toss winning is a factor in winning the match?\n",
        "2.   What Venue and city hosted most of the matches in each series?\n",
        "3.   Having a Specific Captain makes any difference in wining a Match?\n",
        "4.   Teams total wins per each season and entire period?\n",
        "5.   which Team won most when toss is against them per season\n",
        "\n",
        "\n"
      ]
    },
    {
      "cell_type": "code",
      "metadata": {
        "colab": {
          "base_uri": "https://localhost:8080/"
        },
        "id": "Dnwd3A7pgnWX",
        "outputId": "f98b8055-74ba-409e-d76b-7798e2a86f22"
      },
      "source": [
        "match_df.info()"
      ],
      "execution_count": 29,
      "outputs": [
        {
          "output_type": "stream",
          "text": [
            "<class 'pandas.core.frame.DataFrame'>\n",
            "RangeIndex: 637 entries, 0 to 636\n",
            "Data columns (total 17 columns):\n",
            " #   Column        Non-Null Count  Dtype  \n",
            "---  ------        --------------  -----  \n",
            " 0   Match_SK      637 non-null    int64  \n",
            " 1   match_id      637 non-null    int64  \n",
            " 2   Team1         637 non-null    object \n",
            " 3   Team2         637 non-null    object \n",
            " 4   match_date    637 non-null    object \n",
            " 5   Season_Year   637 non-null    int64  \n",
            " 6   Venue_Name    636 non-null    object \n",
            " 7   City_Name     637 non-null    object \n",
            " 8   Country_Name  637 non-null    object \n",
            " 9   Toss_Winner   636 non-null    object \n",
            " 10  match_winner  634 non-null    object \n",
            " 11  Toss_Name     636 non-null    object \n",
            " 12  Win_Type      635 non-null    object \n",
            " 13  Outcome_Type  637 non-null    object \n",
            " 14  ManOfMach     633 non-null    object \n",
            " 15  Win_Margin    628 non-null    float64\n",
            " 16  Country_id    637 non-null    int64  \n",
            "dtypes: float64(1), int64(4), object(12)\n",
            "memory usage: 84.7+ KB\n"
          ],
          "name": "stdout"
        }
      ]
    },
    {
      "cell_type": "code",
      "metadata": {
        "colab": {
          "base_uri": "https://localhost:8080/"
        },
        "id": "QUh_aHYt4x2w",
        "outputId": "826b3573-cf5b-4909-973d-0e1fdf83adcf"
      },
      "source": [
        "match_df.Outcome_Type.unique()"
      ],
      "execution_count": 13,
      "outputs": [
        {
          "output_type": "execute_result",
          "data": {
            "text/plain": [
              "array(['Result', 'Superover', 'No Result', 'abandoned', 'tied'],\n",
              "      dtype=object)"
            ]
          },
          "metadata": {
            "tags": []
          },
          "execution_count": 13
        }
      ]
    },
    {
      "cell_type": "code",
      "metadata": {
        "colab": {
          "base_uri": "https://localhost:8080/"
        },
        "id": "XvJG56lD76ay",
        "outputId": "b89fae2a-19eb-4672-9547-d9704961c96f"
      },
      "source": [
        "match_df.Outcome_Type.value_counts()"
      ],
      "execution_count": 14,
      "outputs": [
        {
          "output_type": "execute_result",
          "data": {
            "text/plain": [
              "Result       626\n",
              "Superover      6\n",
              "No Result      3\n",
              "abandoned      1\n",
              "tied           1\n",
              "Name: Outcome_Type, dtype: int64"
            ]
          },
          "metadata": {
            "tags": []
          },
          "execution_count": 14
        }
      ]
    },
    {
      "cell_type": "code",
      "metadata": {
        "id": "pNTD0iai972a"
      },
      "source": [
        "for i in range(0,len(match_df.Outcome_Type)):\n",
        "  if match_df.Outcome_Type[i] == \"Result\":\n",
        "    match_df[\"winning\"] = 1\n",
        "  elif match_df.Outcome_Type[i] == \"Superover\":\n",
        "    match_df[\"winning\"] = 2\n",
        "  elif match_df.Outcome_Type[i] == \"No Result\":\n",
        "    match_df[\"winning\"] = 3\n",
        "  elif match_df.Outcome_Type[i] == \"tied\":\n",
        "    match_df[\"winning\"] = 4\n",
        "  elif match_df.Outcome_Type[i] == \"abandoned\":\n",
        "    match_df[\"winning\"] = 5\n",
        "  i=i+1\n"
      ],
      "execution_count": 15,
      "outputs": []
    },
    {
      "cell_type": "code",
      "metadata": {
        "colab": {
          "base_uri": "https://localhost:8080/"
        },
        "id": "L99yg1GW_YIA",
        "outputId": "c4c8dfa5-242f-452d-9388-907bb6e75622"
      },
      "source": [
        "match_df[\"winning\"][636]"
      ],
      "execution_count": 16,
      "outputs": [
        {
          "output_type": "execute_result",
          "data": {
            "text/plain": [
              "1"
            ]
          },
          "metadata": {
            "tags": []
          },
          "execution_count": 16
        }
      ]
    },
    {
      "cell_type": "code",
      "metadata": {
        "colab": {
          "base_uri": "https://localhost:8080/"
        },
        "id": "wbinlHfT_k8M",
        "outputId": "81ee2a70-0d42-4304-9a0f-73c3fac88984"
      },
      "source": [
        "match_df.Toss_Winner"
      ],
      "execution_count": 17,
      "outputs": [
        {
          "output_type": "execute_result",
          "data": {
            "text/plain": [
              "0      Royal Challengers Bangalore\n",
              "1              Chennai Super Kings\n",
              "2                 Rajasthan Royals\n",
              "3                   Mumbai Indians\n",
              "4                  Deccan Chargers\n",
              "                  ...             \n",
              "632    Royal Challengers Bangalore\n",
              "633                 Mumbai Indians\n",
              "634          Kolkata Knight Riders\n",
              "635                 Mumbai Indians\n",
              "636                 Mumbai Indians\n",
              "Name: Toss_Winner, Length: 637, dtype: object"
            ]
          },
          "metadata": {
            "tags": []
          },
          "execution_count": 17
        }
      ]
    },
    {
      "cell_type": "code",
      "metadata": {
        "colab": {
          "base_uri": "https://localhost:8080/"
        },
        "id": "-deNjqBjATSr",
        "outputId": "3da8a64a-b2bb-4e09-f942-9db39da1bd9f"
      },
      "source": [
        "a = 0\n",
        "for i in range(0,len(match_df.Toss_Winner)):\n",
        "  if match_df.Toss_Winner[i] == match_df.Team1[i]:\n",
        "    a = a+1\n",
        "print(a)"
      ],
      "execution_count": 18,
      "outputs": [
        {
          "output_type": "stream",
          "text": [
            "307\n"
          ],
          "name": "stdout"
        }
      ]
    },
    {
      "cell_type": "code",
      "metadata": {
        "colab": {
          "base_uri": "https://localhost:8080/"
        },
        "id": "9-ubjcoGZBpO",
        "outputId": "5e0f5ba2-b167-4a59-fa68-0b5c691402f1"
      },
      "source": [
        "a/match_df.Toss_Winner.count()"
      ],
      "execution_count": 19,
      "outputs": [
        {
          "output_type": "execute_result",
          "data": {
            "text/plain": [
              "0.4827044025157233"
            ]
          },
          "metadata": {
            "tags": []
          },
          "execution_count": 19
        }
      ]
    },
    {
      "cell_type": "markdown",
      "metadata": {
        "id": "JIzLzB5CIbmy"
      },
      "source": [
        "## The above code proves that Winning Toss is not a strong factor for winning the game!"
      ]
    },
    {
      "cell_type": "code",
      "metadata": {
        "colab": {
          "base_uri": "https://localhost:8080/",
          "height": 408
        },
        "id": "qMEqjxB-Zui5",
        "outputId": "a1a8426c-f45e-4b57-fa3b-6d8b8a2ecea4"
      },
      "source": [
        "match_df.head()"
      ],
      "execution_count": 20,
      "outputs": [
        {
          "output_type": "execute_result",
          "data": {
            "text/html": [
              "<div>\n",
              "<style scoped>\n",
              "    .dataframe tbody tr th:only-of-type {\n",
              "        vertical-align: middle;\n",
              "    }\n",
              "\n",
              "    .dataframe tbody tr th {\n",
              "        vertical-align: top;\n",
              "    }\n",
              "\n",
              "    .dataframe thead th {\n",
              "        text-align: right;\n",
              "    }\n",
              "</style>\n",
              "<table border=\"1\" class=\"dataframe\">\n",
              "  <thead>\n",
              "    <tr style=\"text-align: right;\">\n",
              "      <th></th>\n",
              "      <th>Match_SK</th>\n",
              "      <th>match_id</th>\n",
              "      <th>Team1</th>\n",
              "      <th>Team2</th>\n",
              "      <th>match_date</th>\n",
              "      <th>Season_Year</th>\n",
              "      <th>Venue_Name</th>\n",
              "      <th>City_Name</th>\n",
              "      <th>Country_Name</th>\n",
              "      <th>Toss_Winner</th>\n",
              "      <th>match_winner</th>\n",
              "      <th>Toss_Name</th>\n",
              "      <th>Win_Type</th>\n",
              "      <th>Outcome_Type</th>\n",
              "      <th>ManOfMach</th>\n",
              "      <th>Win_Margin</th>\n",
              "      <th>Country_id</th>\n",
              "      <th>winning</th>\n",
              "    </tr>\n",
              "  </thead>\n",
              "  <tbody>\n",
              "    <tr>\n",
              "      <th>0</th>\n",
              "      <td>0</td>\n",
              "      <td>335987</td>\n",
              "      <td>Royal Challengers Bangalore</td>\n",
              "      <td>Kolkata Knight Riders</td>\n",
              "      <td>4/18/2008</td>\n",
              "      <td>2008</td>\n",
              "      <td>M Chinnaswamy Stadium</td>\n",
              "      <td>Bangalore</td>\n",
              "      <td>India</td>\n",
              "      <td>Royal Challengers Bangalore</td>\n",
              "      <td>Kolkata Knight Riders</td>\n",
              "      <td>field</td>\n",
              "      <td>runs</td>\n",
              "      <td>Result</td>\n",
              "      <td>BB McCullum</td>\n",
              "      <td>140.0</td>\n",
              "      <td>1</td>\n",
              "      <td>1</td>\n",
              "    </tr>\n",
              "    <tr>\n",
              "      <th>1</th>\n",
              "      <td>1</td>\n",
              "      <td>335988</td>\n",
              "      <td>Kings XI Punjab</td>\n",
              "      <td>Chennai Super Kings</td>\n",
              "      <td>4/19/2008</td>\n",
              "      <td>2008</td>\n",
              "      <td>Punjab Cricket Association Stadium, Mohali</td>\n",
              "      <td>Chandigarh</td>\n",
              "      <td>India</td>\n",
              "      <td>Chennai Super Kings</td>\n",
              "      <td>Chennai Super Kings</td>\n",
              "      <td>bat</td>\n",
              "      <td>runs</td>\n",
              "      <td>Result</td>\n",
              "      <td>MEK Hussey</td>\n",
              "      <td>33.0</td>\n",
              "      <td>1</td>\n",
              "      <td>1</td>\n",
              "    </tr>\n",
              "    <tr>\n",
              "      <th>2</th>\n",
              "      <td>2</td>\n",
              "      <td>335989</td>\n",
              "      <td>Delhi Daredevils</td>\n",
              "      <td>Rajasthan Royals</td>\n",
              "      <td>4/19/2008</td>\n",
              "      <td>2008</td>\n",
              "      <td>Feroz Shah Kotla</td>\n",
              "      <td>Delhi</td>\n",
              "      <td>India</td>\n",
              "      <td>Rajasthan Royals</td>\n",
              "      <td>Delhi Daredevils</td>\n",
              "      <td>bat</td>\n",
              "      <td>wickets</td>\n",
              "      <td>Result</td>\n",
              "      <td>MF Maharoof</td>\n",
              "      <td>9.0</td>\n",
              "      <td>1</td>\n",
              "      <td>1</td>\n",
              "    </tr>\n",
              "    <tr>\n",
              "      <th>3</th>\n",
              "      <td>3</td>\n",
              "      <td>335990</td>\n",
              "      <td>Mumbai Indians</td>\n",
              "      <td>Royal Challengers Bangalore</td>\n",
              "      <td>4/20/2008</td>\n",
              "      <td>2008</td>\n",
              "      <td>Wankhede Stadium</td>\n",
              "      <td>Mumbai</td>\n",
              "      <td>India</td>\n",
              "      <td>Mumbai Indians</td>\n",
              "      <td>Royal Challengers Bangalore</td>\n",
              "      <td>bat</td>\n",
              "      <td>wickets</td>\n",
              "      <td>Result</td>\n",
              "      <td>MV Boucher</td>\n",
              "      <td>5.0</td>\n",
              "      <td>1</td>\n",
              "      <td>1</td>\n",
              "    </tr>\n",
              "    <tr>\n",
              "      <th>4</th>\n",
              "      <td>4</td>\n",
              "      <td>335991</td>\n",
              "      <td>Kolkata Knight Riders</td>\n",
              "      <td>Deccan Chargers</td>\n",
              "      <td>4/20/2008</td>\n",
              "      <td>2008</td>\n",
              "      <td>Eden Gardens</td>\n",
              "      <td>Kolkata</td>\n",
              "      <td>India</td>\n",
              "      <td>Deccan Chargers</td>\n",
              "      <td>Kolkata Knight Riders</td>\n",
              "      <td>bat</td>\n",
              "      <td>wickets</td>\n",
              "      <td>Result</td>\n",
              "      <td>DJ Hussey</td>\n",
              "      <td>5.0</td>\n",
              "      <td>1</td>\n",
              "      <td>1</td>\n",
              "    </tr>\n",
              "  </tbody>\n",
              "</table>\n",
              "</div>"
            ],
            "text/plain": [
              "   Match_SK  match_id  ... Country_id winning\n",
              "0         0    335987  ...          1       1\n",
              "1         1    335988  ...          1       1\n",
              "2         2    335989  ...          1       1\n",
              "3         3    335990  ...          1       1\n",
              "4         4    335991  ...          1       1\n",
              "\n",
              "[5 rows x 18 columns]"
            ]
          },
          "metadata": {
            "tags": []
          },
          "execution_count": 20
        }
      ]
    },
    {
      "cell_type": "code",
      "metadata": {
        "colab": {
          "base_uri": "https://localhost:8080/"
        },
        "id": "bE0AVsddItPs",
        "outputId": "534fdd02-8ad3-4826-f3b4-667ad7cfb05e"
      },
      "source": [
        " match_df.groupby(\"Venue_Name\").count().max()\n",
        "\n"
      ],
      "execution_count": 37,
      "outputs": [
        {
          "output_type": "execute_result",
          "data": {
            "text/plain": [
              "Match_SK        66\n",
              "match_id        66\n",
              "Team1           66\n",
              "Team2           66\n",
              "match_date      66\n",
              "Season_Year     66\n",
              "City_Name       66\n",
              "Country_Name    66\n",
              "Toss_Winner     66\n",
              "match_winner    64\n",
              "Toss_Name       66\n",
              "Win_Type        66\n",
              "Outcome_Type    66\n",
              "ManOfMach       64\n",
              "Win_Margin      63\n",
              "Country_id      66\n",
              "winning         66\n",
              "dtype: int64"
            ]
          },
          "metadata": {
            "tags": []
          },
          "execution_count": 37
        }
      ]
    },
    {
      "cell_type": "code",
      "metadata": {
        "colab": {
          "base_uri": "https://localhost:8080/",
          "height": 303
        },
        "id": "qfEgGnC3JBJf",
        "outputId": "662bcf5c-cf38-4b27-a86e-e84fda746a75"
      },
      "source": [
        "print(grouped_df.agg())"
      ],
      "execution_count": 35,
      "outputs": [
        {
          "output_type": "error",
          "ename": "AssertionError",
          "evalue": "ignored",
          "traceback": [
            "\u001b[0;31m---------------------------------------------------------------------------\u001b[0m",
            "\u001b[0;31mAssertionError\u001b[0m                            Traceback (most recent call last)",
            "\u001b[0;32m<ipython-input-35-efe099d5e29f>\u001b[0m in \u001b[0;36m<module>\u001b[0;34m()\u001b[0m\n\u001b[0;32m----> 1\u001b[0;31m \u001b[0mprint\u001b[0m\u001b[0;34m(\u001b[0m\u001b[0mgrouped_df\u001b[0m\u001b[0;34m.\u001b[0m\u001b[0mmax\u001b[0m\u001b[0;34m(\u001b[0m\u001b[0;34m)\u001b[0m\u001b[0;34m)\u001b[0m\u001b[0;34m\u001b[0m\u001b[0;34m\u001b[0m\u001b[0m\n\u001b[0m",
            "\u001b[0;32m/usr/local/lib/python3.7/dist-packages/pandas/core/groupby/groupby.py\u001b[0m in \u001b[0;36mmax\u001b[0;34m(self, numeric_only, min_count)\u001b[0m\n\u001b[1;32m   1558\u001b[0m     \u001b[0;32mdef\u001b[0m \u001b[0mmax\u001b[0m\u001b[0;34m(\u001b[0m\u001b[0mself\u001b[0m\u001b[0;34m,\u001b[0m \u001b[0mnumeric_only\u001b[0m\u001b[0;34m:\u001b[0m \u001b[0mbool\u001b[0m \u001b[0;34m=\u001b[0m \u001b[0;32mFalse\u001b[0m\u001b[0;34m,\u001b[0m \u001b[0mmin_count\u001b[0m\u001b[0;34m:\u001b[0m \u001b[0mint\u001b[0m \u001b[0;34m=\u001b[0m \u001b[0;34m-\u001b[0m\u001b[0;36m1\u001b[0m\u001b[0;34m)\u001b[0m\u001b[0;34m:\u001b[0m\u001b[0;34m\u001b[0m\u001b[0;34m\u001b[0m\u001b[0m\n\u001b[1;32m   1559\u001b[0m         return self._agg_general(\n\u001b[0;32m-> 1560\u001b[0;31m             \u001b[0mnumeric_only\u001b[0m\u001b[0;34m=\u001b[0m\u001b[0mnumeric_only\u001b[0m\u001b[0;34m,\u001b[0m \u001b[0mmin_count\u001b[0m\u001b[0;34m=\u001b[0m\u001b[0mmin_count\u001b[0m\u001b[0;34m,\u001b[0m \u001b[0malias\u001b[0m\u001b[0;34m=\u001b[0m\u001b[0;34m\"max\"\u001b[0m\u001b[0;34m,\u001b[0m \u001b[0mnpfunc\u001b[0m\u001b[0;34m=\u001b[0m\u001b[0mnp\u001b[0m\u001b[0;34m.\u001b[0m\u001b[0mmax\u001b[0m\u001b[0;34m\u001b[0m\u001b[0;34m\u001b[0m\u001b[0m\n\u001b[0m\u001b[1;32m   1561\u001b[0m         )\n\u001b[1;32m   1562\u001b[0m \u001b[0;34m\u001b[0m\u001b[0m\n",
            "\u001b[0;32m/usr/local/lib/python3.7/dist-packages/pandas/core/groupby/groupby.py\u001b[0m in \u001b[0;36m_agg_general\u001b[0;34m(self, numeric_only, min_count, alias, npfunc)\u001b[0m\n\u001b[1;32m    999\u001b[0m         \u001b[0;32mtry\u001b[0m\u001b[0;34m:\u001b[0m\u001b[0;34m\u001b[0m\u001b[0;34m\u001b[0m\u001b[0m\n\u001b[1;32m   1000\u001b[0m             result = self._cython_agg_general(\n\u001b[0;32m-> 1001\u001b[0;31m                 \u001b[0mhow\u001b[0m\u001b[0;34m=\u001b[0m\u001b[0malias\u001b[0m\u001b[0;34m,\u001b[0m \u001b[0malt\u001b[0m\u001b[0;34m=\u001b[0m\u001b[0mnpfunc\u001b[0m\u001b[0;34m,\u001b[0m \u001b[0mnumeric_only\u001b[0m\u001b[0;34m=\u001b[0m\u001b[0mnumeric_only\u001b[0m\u001b[0;34m,\u001b[0m \u001b[0mmin_count\u001b[0m\u001b[0;34m=\u001b[0m\u001b[0mmin_count\u001b[0m\u001b[0;34m,\u001b[0m\u001b[0;34m\u001b[0m\u001b[0;34m\u001b[0m\u001b[0m\n\u001b[0m\u001b[1;32m   1002\u001b[0m             )\n\u001b[1;32m   1003\u001b[0m         \u001b[0;32mexcept\u001b[0m \u001b[0mDataError\u001b[0m\u001b[0;34m:\u001b[0m\u001b[0;34m\u001b[0m\u001b[0;34m\u001b[0m\u001b[0m\n",
            "\u001b[0;32m/usr/local/lib/python3.7/dist-packages/pandas/core/groupby/generic.py\u001b[0m in \u001b[0;36m_cython_agg_general\u001b[0;34m(self, how, alt, numeric_only, min_count)\u001b[0m\n\u001b[1;32m   1020\u001b[0m     ) -> DataFrame:\n\u001b[1;32m   1021\u001b[0m         agg_blocks, agg_items = self._cython_agg_blocks(\n\u001b[0;32m-> 1022\u001b[0;31m             \u001b[0mhow\u001b[0m\u001b[0;34m,\u001b[0m \u001b[0malt\u001b[0m\u001b[0;34m=\u001b[0m\u001b[0malt\u001b[0m\u001b[0;34m,\u001b[0m \u001b[0mnumeric_only\u001b[0m\u001b[0;34m=\u001b[0m\u001b[0mnumeric_only\u001b[0m\u001b[0;34m,\u001b[0m \u001b[0mmin_count\u001b[0m\u001b[0;34m=\u001b[0m\u001b[0mmin_count\u001b[0m\u001b[0;34m\u001b[0m\u001b[0;34m\u001b[0m\u001b[0m\n\u001b[0m\u001b[1;32m   1023\u001b[0m         )\n\u001b[1;32m   1024\u001b[0m         \u001b[0;32mreturn\u001b[0m \u001b[0mself\u001b[0m\u001b[0;34m.\u001b[0m\u001b[0m_wrap_agged_blocks\u001b[0m\u001b[0;34m(\u001b[0m\u001b[0magg_blocks\u001b[0m\u001b[0;34m,\u001b[0m \u001b[0mitems\u001b[0m\u001b[0;34m=\u001b[0m\u001b[0magg_items\u001b[0m\u001b[0;34m)\u001b[0m\u001b[0;34m\u001b[0m\u001b[0;34m\u001b[0m\u001b[0m\n",
            "\u001b[0;32m/usr/local/lib/python3.7/dist-packages/pandas/core/groupby/generic.py\u001b[0m in \u001b[0;36m_cython_agg_blocks\u001b[0;34m(self, how, alt, numeric_only, min_count)\u001b[0m\n\u001b[1;32m   1133\u001b[0m             \u001b[0;31m# Clean up the mess left over from split blocks.\u001b[0m\u001b[0;34m\u001b[0m\u001b[0;34m\u001b[0m\u001b[0;34m\u001b[0m\u001b[0m\n\u001b[1;32m   1134\u001b[0m             \u001b[0;32mfor\u001b[0m \u001b[0mlocs\u001b[0m\u001b[0;34m,\u001b[0m \u001b[0mresult\u001b[0m \u001b[0;32min\u001b[0m \u001b[0mzip\u001b[0m\u001b[0;34m(\u001b[0m\u001b[0msplit_items\u001b[0m\u001b[0;34m,\u001b[0m \u001b[0msplit_frames\u001b[0m\u001b[0;34m)\u001b[0m\u001b[0;34m:\u001b[0m\u001b[0;34m\u001b[0m\u001b[0;34m\u001b[0m\u001b[0m\n\u001b[0;32m-> 1135\u001b[0;31m                 \u001b[0;32massert\u001b[0m \u001b[0mlen\u001b[0m\u001b[0;34m(\u001b[0m\u001b[0mlocs\u001b[0m\u001b[0;34m)\u001b[0m \u001b[0;34m==\u001b[0m \u001b[0mresult\u001b[0m\u001b[0;34m.\u001b[0m\u001b[0mshape\u001b[0m\u001b[0;34m[\u001b[0m\u001b[0;36m1\u001b[0m\u001b[0;34m]\u001b[0m\u001b[0;34m\u001b[0m\u001b[0;34m\u001b[0m\u001b[0m\n\u001b[0m\u001b[1;32m   1136\u001b[0m                 \u001b[0;32mfor\u001b[0m \u001b[0mi\u001b[0m\u001b[0;34m,\u001b[0m \u001b[0mloc\u001b[0m \u001b[0;32min\u001b[0m \u001b[0menumerate\u001b[0m\u001b[0;34m(\u001b[0m\u001b[0mlocs\u001b[0m\u001b[0;34m)\u001b[0m\u001b[0;34m:\u001b[0m\u001b[0;34m\u001b[0m\u001b[0;34m\u001b[0m\u001b[0m\n\u001b[1;32m   1137\u001b[0m                     \u001b[0mnew_items\u001b[0m\u001b[0;34m.\u001b[0m\u001b[0mappend\u001b[0m\u001b[0;34m(\u001b[0m\u001b[0mnp\u001b[0m\u001b[0;34m.\u001b[0m\u001b[0marray\u001b[0m\u001b[0;34m(\u001b[0m\u001b[0;34m[\u001b[0m\u001b[0mloc\u001b[0m\u001b[0;34m]\u001b[0m\u001b[0;34m,\u001b[0m \u001b[0mdtype\u001b[0m\u001b[0;34m=\u001b[0m\u001b[0mlocs\u001b[0m\u001b[0;34m.\u001b[0m\u001b[0mdtype\u001b[0m\u001b[0;34m)\u001b[0m\u001b[0;34m)\u001b[0m\u001b[0;34m\u001b[0m\u001b[0;34m\u001b[0m\u001b[0m\n",
            "\u001b[0;31mAssertionError\u001b[0m: "
          ]
        }
      ]
    },
    {
      "cell_type": "code",
      "metadata": {
        "colab": {
          "base_uri": "https://localhost:8080/"
        },
        "id": "1Y7CTPT5M9Vy",
        "outputId": "a57a8ad6-f3b7-4b40-fdf4-e37dca859524"
      },
      "source": [
        ""
      ],
      "execution_count": 26,
      "outputs": [
        {
          "output_type": "execute_result",
          "data": {
            "text/plain": [
              "array(['M Chinnaswamy Stadium',\n",
              "       'Punjab Cricket Association Stadium, Mohali', 'Feroz Shah Kotla',\n",
              "       'Wankhede Stadium', 'Eden Gardens', 'Sawai Mansingh Stadium',\n",
              "       'Rajiv Gandhi International Stadium, Uppal',\n",
              "       'MA Chidambaram Stadium, Chepauk', 'Dr DY Patil Sports Academy',\n",
              "       'Newlands', \"St George's Park\", 'Kingsmead', 'SuperSport Park',\n",
              "       'Buffalo Park', 'New Wanderers Stadium', 'De Beers Diamond Oval',\n",
              "       'OUTsurance Oval', 'Brabourne Stadium',\n",
              "       'Sardar Patel Stadium, Motera', 'Barabati Stadium',\n",
              "       'Vidarbha Cricket Association Stadium, Jamtha',\n",
              "       'Himachal Pradesh Cricket Association Stadium', 'Nehru Stadium',\n",
              "       'Holkar Cricket Stadium',\n",
              "       'Dr. Y.S. Rajasekhara Reddy ACA-VDCA Cricket Stadium',\n",
              "       'Subrata Roy Sahara Stadium',\n",
              "       'Shaheed Veer Narayan Singh International Stadium',\n",
              "       'JSCA International Stadium Complex', 'Sheikh Zayed Stadium',\n",
              "       'Sharjah Cricket Stadium', 'Dubai International Cricket Stadium',\n",
              "       'Maharashtra Cricket Association Stadium',\n",
              "       'Punjab Cricket Association IS Bindra Stadium, Mohali',\n",
              "       'Saurashtra Cricket Association Stadium', 'Green Park',\n",
              "       'Rajiv Gandhi International Stadium Uppal', nan,\n",
              "       'Punjab Cricket Association IS Bindra Stadium Mohali'],\n",
              "      dtype=object)"
            ]
          },
          "metadata": {
            "tags": []
          },
          "execution_count": 26
        }
      ]
    },
    {
      "cell_type": "code",
      "metadata": {
        "id": "pber_pgSNaOc"
      },
      "source": [
        ""
      ],
      "execution_count": null,
      "outputs": []
    }
  ]
}